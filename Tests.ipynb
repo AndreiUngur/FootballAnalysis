{
 "cells": [
  {
   "cell_type": "code",
   "execution_count": 53,
   "metadata": {},
   "outputs": [],
   "source": [
    "import pandas as pd\n",
    "from urllib.request import urlopen\n",
    "from bs4 import BeautifulSoup\n",
    "url = 'http://www.nfl.com/scores/2017/REG'\n",
    "df = pd.DataFrame(columns=['team-name','team-score','first-qt','second-qt','third-qt','fourth-qt','ot'])\n",
    "row = 0\n",
    "\n",
    "for s in range(1,11):\n",
    "    page = urlopen(url+str(s))\n",
    "    soup = BeautifulSoup(page, 'html.parser')\n",
    "    scores = soup.find_all('p',attrs={'class':'total-score'})\n",
    "    teams = soup.find_all('p',attrs={'class':'team-name'})\n",
    "    record = soup.find_all('p',attrs={'class':'team-record'})\n",
    "    quarters = soup.find_all('p',attrs={'class':'quarters-score'})\n",
    "    per_quarter = []\n",
    "\n",
    "    for quarter in quarters:\n",
    "        qt = []\n",
    "        for x in quarter.children:\n",
    "            qt.append(x.text)\n",
    "        per_quarter.append(qt)\n",
    "        \n",
    "    for i in range(0,len(scores)):\n",
    "        df.loc[row] = [teams[i].text, scores[i].text, per_quarter[i][0],per_quarter[i][1],per_quarter[i][2],per_quarter[i][3],per_quarter[i][4]]\n",
    "        row+=1\n",
    "        \n",
    "df.to_csv('scores_1_to_11.csv', encoding='utf-8')"
   ]
  },
  {
   "cell_type": "code",
   "execution_count": null,
   "metadata": {
    "collapsed": true
   },
   "outputs": [],
   "source": []
  },
  {
   "cell_type": "code",
   "execution_count": null,
   "metadata": {
    "collapsed": true
   },
   "outputs": [],
   "source": []
  }
 ],
 "metadata": {
  "kernelspec": {
   "display_name": "Python 3",
   "language": "python",
   "name": "python3"
  },
  "language_info": {
   "codemirror_mode": {
    "name": "ipython",
    "version": 3
   },
   "file_extension": ".py",
   "mimetype": "text/x-python",
   "name": "python",
   "nbconvert_exporter": "python",
   "pygments_lexer": "ipython3",
   "version": "3.6.3"
  }
 },
 "nbformat": 4,
 "nbformat_minor": 2
}
