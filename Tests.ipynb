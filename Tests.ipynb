{
 "cells": [
  {
   "cell_type": "code",
   "execution_count": 24,
   "metadata": {},
   "outputs": [
    {
     "name": "stdout",
     "output_type": "stream",
     "text": [
      "     team_name team_score\n",
      "0       Chiefs         30\n",
      "1      Raiders         31\n",
      "2   Buccaneers         27\n",
      "3        Bills         30\n",
      "4       Ravens         16\n",
      "5      Vikings         24\n",
      "6         Jets         28\n",
      "7     Dolphins         31\n",
      "8    Cardinals          0\n",
      "9         Rams         33\n",
      "10     Jaguars         27\n",
      "11       Colts          0\n",
      "12      Saints         26\n",
      "13     Packers         17\n",
      "14    Panthers          3\n",
      "15       Bears         17\n",
      "16      Titans         12\n",
      "17      Browns          9\n",
      "18     Cowboys         40\n",
      "19       49ers         10\n",
      "20     Broncos          0\n",
      "21    Chargers         21\n",
      "22     Bengals         14\n",
      "23    Steelers         29\n",
      "24    Seahawks         24\n",
      "25      Giants          7\n",
      "26     Falcons          7\n",
      "27    Patriots         23\n",
      "28    Redskins         24\n",
      "29      Eagles         34\n"
     ]
    }
   ],
   "source": [
    "import pandas as pd\n",
    "from urllib.request import urlopen\n",
    "from bs4 import BeautifulSoup\n",
    "url = 'http://www.nfl.com/scores/2017/REG7'\n",
    "page = urlopen(url)\n",
    "soup = BeautifulSoup(page, 'html.parser')\n",
    "scores = soup.find_all('p',attrs={'class':'total-score'})\n",
    "teams = soup.find_all('p',attrs={'class':'team-name'})\n",
    "\n",
    "df = pd.DataFrame(columns=['team_name','team_score'])\n",
    "for i in range(0,len(scores)):\n",
    "    df.loc[i] = [teams[i].text, scores[i].text]\n",
    "\n",
    "print(df)\n",
    "#http://www.nfl.com/scores/2017/REG7"
   ]
  },
  {
   "cell_type": "code",
   "execution_count": null,
   "metadata": {
    "collapsed": true
   },
   "outputs": [],
   "source": []
  },
  {
   "cell_type": "code",
   "execution_count": null,
   "metadata": {
    "collapsed": true
   },
   "outputs": [],
   "source": []
  }
 ],
 "metadata": {
  "kernelspec": {
   "display_name": "Python 3",
   "language": "python",
   "name": "python3"
  },
  "language_info": {
   "codemirror_mode": {
    "name": "ipython",
    "version": 3
   },
   "file_extension": ".py",
   "mimetype": "text/x-python",
   "name": "python",
   "nbconvert_exporter": "python",
   "pygments_lexer": "ipython3",
   "version": "3.6.3"
  }
 },
 "nbformat": 4,
 "nbformat_minor": 2
}
